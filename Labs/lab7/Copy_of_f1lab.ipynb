{
  "cells": [
    {
      "cell_type": "markdown",
      "metadata": {
        "id": "8TOakUGMDLDU"
      },
      "source": [
        "# Recommended Imports"
      ]
    },
    {
      "cell_type": "code",
      "execution_count": 12,
      "metadata": {
        "id": "4dGTPwNqDLDW"
      },
      "outputs": [],
      "source": [
        "import pandas as pd\n",
        "import numpy as np\n",
        "from sklearn.preprocessing import StandardScaler, LabelEncoder\n",
        "from sklearn.neighbors import KNeighborsClassifier"
      ]
    },
    {
      "cell_type": "markdown",
      "metadata": {
        "id": "b-3OeV82DLDX"
      },
      "source": [
        "# Loading Files\n",
        "\n",
        "Ensure you set these paths to the locations of your train/test csvs you've downloaded from Kaggle"
      ]
    },
    {
      "cell_type": "code",
      "execution_count": 13,
      "metadata": {
        "id": "Z96y7IkDDLDY",
        "outputId": "6eec2477-5262-435c-e636-e277224dd36a"
      },
      "outputs": [
        {
          "name": "stdout",
          "output_type": "stream",
          "text": [
            "seatid                    int64\n",
            "price                     int64\n",
            "distance                  int64\n",
            "height                    int64\n",
            "seating_angle             int64\n",
            "visibility                int64\n",
            "turns_visible             int64\n",
            "track_length_visible      int64\n",
            "range_visible             int64\n",
            "seat_type                object\n",
            "sun_cover               float64\n",
            "rain_cover              float64\n",
            "speed_category           object\n",
            "overtake_probability    float64\n",
            "braking_zone              int64\n",
            "sold_first_hour           int64\n",
            "dtype: object\n"
          ]
        }
      ],
      "source": [
        "train_df = pd.read_csv(\"train.csv\")\n",
        "test_df = pd.read_csv(\"test.csv\")\n",
        "\n",
        "#this prints the datatypes of the fields if imported properly\n",
        "print(train_df.dtypes)"
      ]
    },
    {
      "cell_type": "markdown",
      "metadata": {
        "id": "Y7pAJkxlDLDY"
      },
      "source": [
        "# Preprocessing\n",
        "Here, you should do any processing required to run KNN (or decision trees).\n",
        "\n",
        "- Get any categorical values (`seat_type`, `speed_category`) and use Scikit's `LabelEncoder`\n",
        "- For numerical values (except for id/target), normalize them using Scikit's `StandardScaler`"
      ]
    },
    {
      "cell_type": "code",
      "execution_count": 14,
      "metadata": {
        "id": "KAxywxohDLDY"
      },
      "outputs": [],
      "source": [
        "id = \"seatid\" #set to the column representing id\n",
        "target = \"sold_first_hour\" #set to the target column\n",
        "categorical = [\"seat_type\", \"speed_category\"]  #list of non-numerical columns\n",
        "\n",
        "#list of all columns that arent categorical, or the id/target\n",
        "numerical = [col for col in train_df.columns if col not in categorical + [id, target]]\n",
        "\n",
        "#use label encoder on each categorical column\n",
        "for col in categorical:\n",
        "    le = LabelEncoder()\n",
        "    train_df[col] = le.fit_transform(train_df[col])\n",
        "    test_df[col] = le.transform(test_df[col])  \n",
        "\n",
        "#use standard scaling on numerical values here\n",
        "scaler = StandardScaler()\n",
        "train_df[numerical] = scaler.fit_transform(train_df[numerical])\n",
        "test_df[numerical] = scaler.transform(test_df[numerical])\n",
        "\n",
        "#define dataframes for model training here (X_train, y_train, X_test)\n",
        "X_train = train_df.drop([id, target], axis=1)\n",
        "y_train = train_df[target]\n",
        "X_test = test_df.drop([id], axis=1)"
      ]
    },
    {
      "cell_type": "markdown",
      "metadata": {
        "id": "7hMrQM2RDLDZ"
      },
      "source": [
        "# KMeans\n",
        "Run KNN here and write the predictions to submission.csv"
      ]
    },
    {
      "cell_type": "code",
      "execution_count": 15,
      "metadata": {
        "id": "Ad2DCkcqDLDZ"
      },
      "outputs": [],
      "source": [
        "#fit and predict knn here, creating a target column in test_df\n",
        "knn = KNeighborsClassifier()\n",
        "\n",
        "knn.fit(X_train, y_train)\n",
        "test_df[target] = knn.predict(X_test)\n",
        "\n",
        "#export the test_df with columns [id, target] to \"submission.csv\"\n",
        "submission = test_df[[id,target]]\n",
        "submission.to_csv(\"out.csv\", index=False)"
      ]
    }
  ],
  "metadata": {
    "colab": {
      "provenance": []
    },
    "kernelspec": {
      "display_name": "base",
      "language": "python",
      "name": "python3"
    },
    "language_info": {
      "codemirror_mode": {
        "name": "ipython",
        "version": 3
      },
      "file_extension": ".py",
      "mimetype": "text/x-python",
      "name": "python",
      "nbconvert_exporter": "python",
      "pygments_lexer": "ipython3",
      "version": "3.11.5"
    }
  },
  "nbformat": 4,
  "nbformat_minor": 0
}
