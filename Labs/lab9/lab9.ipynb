{
 "cells": [
  {
   "cell_type": "markdown",
   "metadata": {
    "id": "OGUTTF7psu_O"
   },
   "source": [
    "# Demystifying Confidence Intervals & Hypothesis Testing\n",
    "\n",
    "In this assignment we will use a sampling shoe sizes of a population to explore two key statistical tools: **confidence intervals** and **hypothesis testing**.\n",
    "\n",
    "Let's start off with the assumption that we measured everybody's shoe sizes and found that they follow a normal distribution with a mean of 10 and standard deviation of 2:\n",
    "$$\n",
    "X \\sim N(\\mu = 10, \\sigma = 2)\n",
    "$$"
   ]
  },
  {
   "cell_type": "markdown",
   "metadata": {
    "id": "74O2cww-su_Q"
   },
   "source": [
    "## Part 1: Confidence Intervals"
   ]
  },
  {
   "cell_type": "markdown",
   "metadata": {
    "id": "RfvRaKJwsu_Q"
   },
   "source": [
    "### Simulating the Confidence Interval\n",
    "\n",
    "**Task:**  \n",
    "Using a simulation, we will generate many shoe sizes and then find the range that contains 95% of the values, centered around the mean. This interval tells us that 95% of people in the population have shoe sizes within that range. (Hint: Compute the 2.5th and 97.5th percentiles.)"
   ]
  },
  {
   "cell_type": "code",
   "execution_count": 12,
   "metadata": {
    "id": "LnLxJ29Lsu_Q"
   },
   "outputs": [],
   "source": [
    "# pip install numpy matplotlib scipy\n",
    "import numpy as np\n",
    "from scipy.stats import norm, t, ttest_1samp"
   ]
  },
  {
   "cell_type": "code",
   "execution_count": 13,
   "metadata": {
    "collapsed": true,
    "id": "Js6Cq5KHsu_R"
   },
   "outputs": [
    {
     "name": "stdout",
     "output_type": "stream",
     "text": [
      "Simulation-based 95% Population Interval:\n",
      "Lower bound: 6.01\n",
      "Upper bound: 13.90\n"
     ]
    }
   ],
   "source": [
    "# Number of simulated shoe sizes\n",
    "N = 10000\n",
    "\n",
    "# Generate shoe sizes one at a time and store in a list\n",
    "\n",
    "simulated_shoe_sizes = []\n",
    "\n",
    "for i in range(N):\n",
    "    shoe_size = np.random.normal(10, 2)  # Draw one shoe size from N(10,2^2)\n",
    "    simulated_shoe_sizes.append(shoe_size)\n",
    "\n",
    "# Sort the list to compute the percentile indices manually\n",
    "\n",
    "simulated_shoe_sizes.sort()\n",
    "\n",
    "# Find the indices for the 2.5th and 97.5th percentiles\n",
    "\n",
    "lower_index = int(0.025 * N)\n",
    "upper_index = int(0.975 * N)\n",
    "\n",
    "\n",
    "# Compute and print the upper and lower bounds\n",
    "\n",
    "lower_bound_sim = simulated_shoe_sizes[lower_index]\n",
    "upper_bound_sim = simulated_shoe_sizes[upper_index]\n",
    "\n",
    "print(\"Simulation-based 95% Population Interval:\")\n",
    "print(f\"Lower bound: {lower_bound_sim:.2f}\")\n",
    "print(f\"Upper bound: {upper_bound_sim:.2f}\")"
   ]
  },
  {
   "cell_type": "markdown",
   "metadata": {
    "id": "0ENKKL3Psu_S"
   },
   "source": [
    "## Theoretical Distribution Calculation\n",
    "\n",
    "For a normal distribution $X \\sim N(\\mu,\\sigma^2)$, the theoretical 95% population interval is computed using the inverse cumulative distribution function (quantile function). Specifically, we find:\n",
    "$$\n",
    "\\text{Lower bound} = \\mu + \\sigma \\cdot z_{0.025} \\quad \\text{and} \\quad \\text{Upper bound} = \\mu + \\sigma \\cdot z_{0.975}\n",
    "$$\n",
    "where $z_{0.025}$ and $z_{0.975}$ are the 2.5th and 97.5th percentiles of the standard normal distribution.\n",
    "\n",
    "For our parameters, $\\mu = 10$ and $\\sigma = 2$, the values are computed as:\n",
    "$$\n",
    "\\text{Lower bound} = 10 + 2 \\cdot z_{0.025}, \\quad \\text{Upper bound} = 10 + 2 \\cdot z_{0.975}\n",
    "$$\n",
    "\n",
    "Let’s calculate these values.\n",
    "\n",
    "Z-score: how far a point is from mean (in terms of standard deviations)\n",
    "\n",
    "ppf(p) tells you at what z-score does a certain percentage of data falls below this point."
   ]
  },
  {
   "cell_type": "code",
   "execution_count": 14,
   "metadata": {
    "id": "3c4T57iDsu_S"
   },
   "outputs": [
    {
     "name": "stdout",
     "output_type": "stream",
     "text": [
      "Theoretical 95% Population Interval:\n",
      "Lower bound: 6.08\n",
      "Upper bound: 13.92\n"
     ]
    }
   ],
   "source": [
    "# Theoretical calculation using the standard normal quantiles - use norm.ppf\n",
    "z_lower = norm.ppf(0.025)\n",
    "z_upper = norm.ppf(0.975)\n",
    "\n",
    "mu, sigma = 10, 2\n",
    "\n",
    "# Compute and print the upper and lower bounds based on the formula above\n",
    "theoretical_lower = mu + sigma * z_lower\n",
    "theoretical_upper = mu + sigma * z_upper\n",
    "\n",
    "print(\"Theoretical 95% Population Interval:\")\n",
    "print(f\"Lower bound: {theoretical_lower:.2f}\")\n",
    "print(f\"Upper bound: {theoretical_upper:.2f}\")"
   ]
  },
  {
   "cell_type": "markdown",
   "metadata": {
    "id": "EnM0eu4ksu_S"
   },
   "source": [
    "## 2. Hypothesis Testing – Is the Original Population Mean Flawed?\n",
    "\n",
    "**Scenario:**  \n",
    "For years, we've measured shoe sizes and concluded that the overall population has a mean of 10 (with a standard deviation of 2). However, new data collected from a particular neighborhood might suggest that the original measurement is flawed.\n",
    "\n",
    "**Hypotheses:**\n",
    "\n",
    "- **Null Hypothesis ($H_0$)**: The original calculation is correct and the population mean is $\\mu = 10$.  \n",
    "- **Alternative Hypothesis ($H_a$)**: The original calculation is flawed, meaning the true mean is not 10 ($\\mu \\neq 10$).\n",
    "\n",
    "We'll use a one-sample t-test to evaluate whether the neighborhood sample provides evidence that the overall mean differs from 10."
   ]
  },
  {
   "cell_type": "code",
   "execution_count": 15,
   "metadata": {
    "id": "4riZaHUDsu_T"
   },
   "outputs": [
    {
     "name": "stdout",
     "output_type": "stream",
     "text": [
      "Neighborhood Sample Statistics:\n",
      "Sample Mean: 11.39\n",
      "Sample Standard Deviation: 2.20\n"
     ]
    }
   ],
   "source": [
    "# Generate a neighborhood sample using np.random.normal.\n",
    "# Here we assume that the neighborhood might have a slight shift (e.g., a mean of 10.5) compared to the overall measurement.\n",
    "sample_size = 30\n",
    "np.random.seed(0)\n",
    "neighborhood_sample = np.random.normal(10.5, 2, sample_size)\n",
    "\n",
    "# Calculate the neighborhood sample's statistics: mean and standard deviation.\n",
    "sample_mean = np.mean(neighborhood_sample)\n",
    "sample_std = np.std(neighborhood_sample, ddof=1)\n",
    "\n",
    "# Print the sample mean and standard deviation for the neighborhood\n",
    "print(\"Neighborhood Sample Statistics:\")\n",
    "print(f\"Sample Mean: {sample_mean:.2f}\")\n",
    "print(f\"Sample Standard Deviation: {sample_std:.2f}\")"
   ]
  },
  {
   "cell_type": "markdown",
   "metadata": {
    "id": "m4gIseYHsu_T"
   },
   "source": [
    "### Simulation-Based t-Test\n",
    "\n",
    "**Task:**  \n",
    "We now simulate many samples under the null hypothesis (i.e., assuming the true mean is 10 and the standard deviation is 2) to see how extreme our observed t statistic is.\n",
    "\n",
    "**Procedure:**\n",
    "1. Generate many samples (each of size 30) from $N(10,2^2)$.\n",
    "2. For each simulated sample, compute the t statistic:\n",
    "   $$\n",
    "   t = \\frac{\\bar{x} - 10}{s/\\sqrt{n}}\n",
    "   $$\n",
    "3. Count the fraction of simulated samples with an absolute t statistic at least as large as our observed value. This fraction is the empirical p‑value.\n"
   ]
  },
  {
   "cell_type": "code",
   "execution_count": 16,
   "metadata": {
    "id": "kNmOeo4wsu_T"
   },
   "outputs": [
    {
     "name": "stdout",
     "output_type": "stream",
     "text": [
      "Simulation-Based t-Test Result:\n",
      "Simulated p-value: 0.002\n"
     ]
    }
   ],
   "source": [
    "numSimulations = 10000\n",
    "extremeCount = 0\n",
    "\n",
    "for _ in range(numSimulations):\n",
    "    # Generate a sample from the null hypothesis: N(10,2)\n",
    "\n",
    "    sim_sample = np.random.normal(10, 2, sample_size)\n",
    "    sim_mean = np.mean(sim_sample)\n",
    "    sim_std = np.std(sim_sample, ddof=1)\n",
    "    sim_t = (sim_mean - 10) / (sim_std / np.sqrt(sample_size))\n",
    "\n",
    "    # Count as extreme if the absolute simulated t statistic is at least as extreme as our observed t statistic\n",
    "\n",
    "    if abs(sim_t) >= abs((sample_mean - 10) / (sample_std / np.sqrt(sample_size))):\n",
    "        extremeCount += 1\n",
    "\n",
    "p_value_simulation = extremeCount / numSimulations\n",
    "print(\"Simulation-Based t-Test Result:\")\n",
    "print(f\"Simulated p-value: {p_value_simulation:.3f}\")"
   ]
  },
  {
   "cell_type": "markdown",
   "metadata": {
    "id": "FGISX6B2su_T"
   },
   "source": [
    "### Analytical One-Sample t-Test\n",
    "\n",
    "**Procedure:**  \n",
    "We now compute the t statistic analytically using:\n",
    "$$\n",
    "t = \\frac{\\bar{x} - 10}{s/\\sqrt{n}}\n",
    "$$\n",
    "with:\n",
    "- $\\bar{x}$ as the sample mean,\n",
    "- $s$ as the sample standard deviation,\n",
    "- $n$ as the sample size,\n",
    "- and 10 as the hypothesized population mean.\n",
    "\n",
    "Based on the t-distribution with $n-1$ degrees of freedom, we calculate the two-sided p‑value.\n",
    "\n",
    "Hint: cdf gives area under curve to the left of t_statistic (we want area to the right)\n"
   ]
  },
  {
   "cell_type": "code",
   "execution_count": 17,
   "metadata": {
    "id": "G6zjx6WGsu_U"
   },
   "outputs": [
    {
     "name": "stdout",
     "output_type": "stream",
     "text": [
      "Analytical t-Test Results:\n",
      "t Statistic: 3.449\n",
      "p-value: 0.002\n"
     ]
    }
   ],
   "source": [
    "# Define the null hypothesis mean\n",
    "mu0 = 10\n",
    "\n",
    "# Compute the observed t statistic using the neighborhood sample\n",
    "t_statistic = (sample_mean - mu0) / (sample_std / np.sqrt(sample_size))\n",
    "df = sample_size - 1\n",
    "\n",
    "# Calculate the two-sided p-value from the t-distribution\n",
    "p_value_analytical = 2 * (1 - t.cdf(abs(t_statistic), df))\n",
    "\n",
    "print(\"Analytical t-Test Results:\")\n",
    "print(f\"t Statistic: {t_statistic:.3f}\")\n",
    "print(f\"p-value: {p_value_analytical:.3f}\")"
   ]
  },
  {
   "cell_type": "markdown",
   "metadata": {
    "id": "gKu89Clk0OwO"
   },
   "source": [
    "### Comprehension Question: Should we accept or reject the null hypothesis? What is the significance of our p-value?"
   ]
  },
  {
   "cell_type": "markdown",
   "metadata": {
    "id": "1mjCdySE0msB"
   },
   "source": [
    "# 🚨Your answer here🚨\n",
    "\n",
    "We got a p-value of 0.002 in the analytical t-Test. Since this value is less than 0.05, it means that the observed resutls are statistically significant, which means we should reject the null hypothesis. The results suggest that the actual populatin mean size is not 10."
   ]
  }
 ],
 "metadata": {
  "colab": {
   "provenance": []
  },
  "kernelspec": {
   "display_name": "base",
   "language": "python",
   "name": "python3"
  },
  "language_info": {
   "codemirror_mode": {
    "name": "ipython",
    "version": 3
   },
   "file_extension": ".py",
   "mimetype": "text/x-python",
   "name": "python",
   "nbconvert_exporter": "python",
   "pygments_lexer": "ipython3",
   "version": "3.11.5"
  }
 },
 "nbformat": 4,
 "nbformat_minor": 0
}
